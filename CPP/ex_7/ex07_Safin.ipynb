{
 "cells": [
  {
   "cell_type": "markdown",
   "metadata": {},
   "source": [
    "# Maxwell solver with leap-frog scheme\n",
    "\n",
    "We implement a leap-frog scheme for the Maxwell equations in vacuum\n",
    "\n",
    "$$\n",
    "\\begin{align}\n",
    "    - \\frac{\\partial \\mathbf{E}}{\\partial t} + \\nabla \\times \\mathbf{B} & = 0 \\\\[3mm]\n",
    "    \\frac{\\partial \\mathbf{B}}{\\partial t} + \\nabla \\times \\mathbf{E} & = 0\n",
    "\\end{align}\n",
    "$$\n",
    "\n",
    "See the [fourth exercise sheet](http://www-m16.ma.tum.de/foswiki/pub/M16/Allgemeines/CompPlasmaPhys22/exercise04.pdf) for details."
   ]
  },
  {
   "cell_type": "code",
   "execution_count": 6,
   "metadata": {},
   "outputs": [],
   "source": [
    "import numpy as np\n",
    "import matplotlib.pyplot as plt"
   ]
  },
  {
   "cell_type": "code",
   "execution_count": 7,
   "metadata": {},
   "outputs": [],
   "source": [
    "# a function to update the electric field vector E using np.roll and matrix operations\n",
    "def adv_update_E_vec(dt, h, E_vec, B_vec):\n",
    "    \"\"\"\n",
    "    Updates the electric field with time-step size dt\n",
    "\n",
    "    Parameters:\n",
    "        dt    : time-step size\n",
    "        h     : array of grid-spacings in all 3 directions\n",
    "        E_vec : array of electric field vector\n",
    "        B_vec : array of magnetic field vector\n",
    "    \"\"\"\n",
    "    E_vec_new = np.zeros( np.shape(E_vec), dtype=float)\n",
    "    \n",
    "    delta_n = dt / h; # a vector\n",
    "    \n",
    "    E_vec_new[0,:,:,:] = E_vec[0,:,:,:] + (delta_n[1] * (B_vec[2,:,:,:] - np.roll(B_vec[2,:,:,:], 1, axis=1)) - delta_n[2] * ((B_vec[1,:,:,:] - np.roll(B_vec[1,:,:,:], 1, axis=2))))\n",
    "    E_vec_new[1,:,:,:] = E_vec[1,:,:,:] + (delta_n[2] * (B_vec[0,:,:,:] - np.roll(B_vec[0,:,:,:], 1, axis=2)) - delta_n[0] * ((B_vec[2,:,:,:] - np.roll(B_vec[2,:,:,:], 1, axis=0))))\n",
    "    E_vec_new[2,:,:,:] = E_vec[2,:,:,:] + (delta_n[0] * (B_vec[1,:,:,:] - np.roll(B_vec[1,:,:,:], 1, axis=0)) - delta_n[1] * ((B_vec[0,:,:,:] - np.roll(B_vec[0,:,:,:], 1, axis=1))))  \n",
    "       \n",
    "    return E_vec_new\n",
    "\n",
    "\n",
    "# a function to update the magnetic field vector E using np.roll and matrix operations\n",
    "def adv_update_B_vec(dt, h, E_vec, B_vec):\n",
    "    \"\"\"\n",
    "    Updates the magnetic field with time-step size dt\n",
    "\n",
    "    Parameters:\n",
    "        dt    : time-step size\n",
    "        h     : array of grid-spacings in all 3 directions\n",
    "        E_vec : array of electric field vector\n",
    "        B_vec : array of magnetic field vector\n",
    "    \"\"\"\n",
    "    B_vec_new = np.zeros( np.shape(B_vec), dtype=float)\n",
    "\n",
    "    delta_n = dt / h; # a vector\n",
    "    \n",
    "    B_vec_new[0,:,:,:] = B_vec[0,:,:,:] - (delta_n[1] * (-E_vec[2,:,:,:] + np.roll(E_vec[2,:,:,:], -1, axis=1)) - delta_n[2] * ((-E_vec[1,:,:,:] + np.roll(E_vec[1,:,:,:], -1, axis=2))))\n",
    "    B_vec_new[1,:,:,:] = B_vec[1,:,:,:] - (delta_n[2] * (-E_vec[0,:,:,:] + np.roll(E_vec[0,:,:,:], -1, axis=2)) - delta_n[0] * ((-E_vec[2,:,:,:] + np.roll(E_vec[2,:,:,:], -1, axis=0))))\n",
    "    B_vec_new[2,:,:,:] = B_vec[2,:,:,:] - (delta_n[0] * (-E_vec[1,:,:,:] + np.roll(E_vec[1,:,:,:], -1, axis=0)) - delta_n[1] * ((-E_vec[0,:,:,:] + np.roll(E_vec[0,:,:,:], -1, axis=1))))\n",
    "         \n",
    "    return B_vec_new\n",
    "\n",
    "def eval_E_ana(t, Omega, N):\n",
    "    E_ana_temp = np.empty([3, N[0], N[1], N[2]])\n",
    "\n",
    "    for i in range(N[0]):\n",
    "        for j in range(N[1]):\n",
    "            for k in range(N[2]):\n",
    "                E_ana_temp[0,i,j,k] = Ex_ana(t, Omega[0][i], Omega[1][j], Omega[2][k])\n",
    "                E_ana_temp[1,i,j,k] = Ey_ana(t, Omega[0][i], Omega[1][j], Omega[2][k])\n",
    "                E_ana_temp[2,i,j,k] = Ez_ana(t, Omega[0][i], Omega[1][j], Omega[2][k])\n",
    "    \n",
    "    return E_ana_temp\n",
    "\n",
    "def eval_B_ana(t, Omega, N):\n",
    "    B_ana_temp = np.empty([3, N[0], N[1], N[2]])\n",
    "\n",
    "    for i in range(N[0]):\n",
    "        for j in range(N[1]):\n",
    "            for k in range(N[2]):\n",
    "                B_ana_temp[0,i,j,k] = Bx_ana(t, Omega[0][i], Omega[1][j], Omega[2][k])\n",
    "                B_ana_temp[1,i,j,k] = By_ana(t, Omega[0][i], Omega[1][j], Omega[2][k])\n",
    "                B_ana_temp[2,i,j,k] = Bz_ana(t, Omega[0][i], Omega[1][j], Omega[2][k])\n",
    "    \n",
    "    return B_ana_temp"
   ]
  },
  {
   "cell_type": "code",
   "execution_count": 15,
   "metadata": {
    "scrolled": false
   },
   "outputs": [
    {
     "name": "stdout",
     "output_type": "stream",
     "text": [
      "Now come 32 elements.\n"
     ]
    },
    {
     "data": {
      "image/png": "[encoded data removed]",
      "text/plain": [
       "<Figure size 432x288 with 1 Axes>"
      ]
     },
     "metadata": {
      "needs_background": "light"
     },
     "output_type": "display_data"
    },
    {
     "data": {
      "image/png": "[encoded data removed]",
      "text/plain": [
       "<Figure size 432x288 with 1 Axes>"
      ]
     },
     "metadata": {
      "needs_background": "light"
     },
     "output_type": "display_data"
    }
   ],
   "source": [
    "# Set parameters for time iteration\n",
    "t_end       = 20\n",
    "dt          = 0.005\n",
    "\n",
    "\n",
    "N_timesteps = int(t_end/dt)\n",
    "\n",
    "# Set parameter for space\n",
    "N = [2**5]*3\n",
    "a = 0\n",
    "b = 2*np.pi\n",
    "\n",
    "\n",
    "# Implement analytical test solution\n",
    "Ex_ana = lambda t,x,y,z : np.cos( x + y + z - np.sqrt(3)*t )\n",
    "Ey_ana = lambda t,x,y,z : -2*np.cos( x + y + z - np.sqrt(3)*t )\n",
    "Ez_ana = lambda t,x,y,z : np.cos( x + y + z - np.sqrt(3)*t )\n",
    "\n",
    "Bx_ana = lambda t,x,y,z : np.sqrt(3)*np.cos( x + y + z - np.sqrt(3)*t )\n",
    "By_ana = lambda t,x,y,z : 0.\n",
    "Bz_ana = lambda t,x,y,z : -np.sqrt(3)*np.cos( x + y + z - np.sqrt(3)*t )\n",
    "\n",
    "\n",
    "Omega = [None]*3\n",
    "h     = np.empty(3, dtype=float)\n",
    "for i in range(3):\n",
    "    Omega[i] = np.linspace(a, b, N[i]+1)[:-1]\n",
    "    h[i]     = Omega[i][1] - Omega[i][0]\n",
    "\n",
    "print('Now come '+str(N[0])+' elements.')\n",
    "\n",
    "# Create initial conditions arrays from analytical solutions\n",
    "E0   = np.zeros( (3,N[0],N[1],N[2]), dtype=float )\n",
    "B0   = np.zeros( (3,N[0],N[1],N[2]), dtype=float )\n",
    "\n",
    "# Create initial conditions arrays\n",
    "\n",
    "for i in range(N[0]):\n",
    "    for j in range(N[1]):\n",
    "        for k in range(N[2]):\n",
    "            E0[0,i,j,k] = Ex_ana(0, Omega[0][i] + h[0] / 2, Omega[1][j], Omega[2][k])\n",
    "            E0[1,i,j,k] = Ey_ana(0, Omega[0][i], Omega[1][j] + h[1] / 2, Omega[2][k])\n",
    "            E0[2,i,j,k] = Ez_ana(0, Omega[0][i], Omega[1][j], Omega[2][k] + h[2] / 2)\n",
    "            B0[0,i,j,k] = Bx_ana(dt/2, Omega[0][i], Omega[1][j] + h[1] / 2, Omega[2][k] + h[2] / 2)\n",
    "            B0[1,i,j,k] = By_ana(dt/2, Omega[0][i] + h[0] / 2, Omega[1][j], Omega[2][k] + h[2] / 2)\n",
    "            B0[2,i,j,k] = Bz_ana(dt/2, Omega[0][i] + h[0] / 2, Omega[1][j] + h[1] / 2, Omega[2][k])\n",
    "\n",
    "\n",
    "            \n",
    "            \n",
    "# Set starting value to initial condition\n",
    "E_vec = E0.copy()\n",
    "B_vec = B0.copy()\n",
    "\n",
    "energy = np.empty(N_timesteps, dtype=float)\n",
    "\n",
    "for k in range(N_timesteps):\n",
    "    E_vec = adv_update_E_vec(dt, h, E_vec, B_vec)\n",
    "    B_vec = adv_update_B_vec(dt, h, E_vec, B_vec)\n",
    "\n",
    "    energy[k] = (np.sum(np.multiply(E_vec, E_vec)) + np.sum(np.multiply(B_vec, B_vec))) / N[0]**3 * (2 * np.pi)**(3)\n",
    "\n",
    "    # Plot a component of the electric or magnetic field and the analytical solution\n",
    "\n",
    "# Create analytical solution\n",
    "E_ana = eval_E_ana(t_end, Omega, N) \n",
    "B_ana = eval_B_ana(t_end + dt/2, Omega, N)\n",
    "\n",
    "\n",
    "plt.plot(Omega[1] + h[1] / 2, E_vec[1,16,:,16], label='approximation', color = 'blue')\n",
    "plt.plot(Omega[1], E_ana[1,16,:,16], label='analytical', color = 'red')\n",
    "plt.xlabel(\"y\")\n",
    "plt.ylabel(\"E_y for x = pi, z = pi\")\n",
    "plt.show()\n",
    "\n",
    "\n",
    "plt.figure()\n",
    "plt.plot(np.linspace(0, t_end, N_timesteps), energy)\n",
    "plt.xlabel(\"energy of electric field\")\n",
    "plt.ylabel(\"time\")\n",
    "plt.ylim([1487, 1489])\n",
    "plt.show()\n"
   ]
  },
  {
   "cell_type": "markdown",
   "metadata": {},
   "source": [
    "We can see, that the leap-frog scheme in time, combined with the Yee scheme in space, quite well approximates the analytical solution. It also conserves energy with high precision. "
   ]
  }
 ],
 "metadata": {
  "interpreter": {
   "hash": "b0fa6594d8f4cbf19f97940f81e996739fb7646882a419484c72d19e05852a7e"
  },
  "kernelspec": {
   "display_name": "Python 3",
   "language": "python",
   "name": "python3"
  },
  "language_info": {
   "codemirror_mode": {
    "name": "ipython",
    "version": 3
   },
   "file_extension": ".py",
   "mimetype": "text/x-python",
   "name": "python",
   "nbconvert_exporter": "python",
   "pygments_lexer": "ipython3",
   "version": "3.8.8"
  }
 },
 "nbformat": 4,
 "nbformat_minor": 2
}
